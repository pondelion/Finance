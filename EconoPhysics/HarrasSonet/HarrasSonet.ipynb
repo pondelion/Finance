{
 "cells": [
  {
   "cell_type": "code",
   "execution_count": 20,
   "metadata": {},
   "outputs": [
    {
     "name": "stdout",
     "output_type": "stream",
     "text": [
      "[[ 1 -1 -1 ... -1 -1 -1]\n",
      " [-1 -1 -1 ... -1  1 -1]\n",
      " [ 1  1  1 ...  1  1  1]\n",
      " ...\n",
      " [ 1 -1 -1 ... -1  1  1]\n",
      " [-1 -1 -1 ...  1  1 -1]\n",
      " [-1  1 -1 ... -1  1 -1]]\n"
     ]
    }
   ],
   "source": [
    "import numpy as np\n",
    "\n",
    "N_COL = 50\n",
    "N_ROW = 50\n",
    "N_EGENT = N_COL * N_ROW  # エージェント数\n",
    "\n",
    "N_STEP = 1000  # ステップ数\n",
    "\n",
    "# 係数を1で初期化\n",
    "C1 = np.array([1]*N_EGENT)\n",
    "C2 = np.array([1]*N_EGENT)\n",
    "C3 = np.array([1]*N_EGENT)\n",
    "\n",
    "# 各エージェントの模倣傾向度を正規分布で初期化\n",
    "k = np.random.randn(N_EGENT, N_EGENT)\n",
    "k_t = [k]\n",
    "\n",
    "# 各エージェントの投資判断を-1か1でランダムに初期化\n",
    "s = np.array(list(map(lambda x: 1 if x < 0 else -1, np.random.randn(N_EGENT)))).reshape(N_ROW, N_COL)\n",
    "s_t = [s]\n",
    "\n",
    "# 各エージェントのニュースへの信頼度を正規分布で初期化\n",
    "u = np.random.randn(N_EGENT, N_EGENT)\n",
    "u_t = [u]\n",
    "\n",
    "# ニュースを正規分布で初期化\n",
    "news = np.random.randn()\n",
    "news_t = [news]\n",
    "\n",
    "# 自身が持つ情報\n",
    "eps = np.random.randn(N_EGENT, N_EGENT)\n",
    "eps_t = [k]\n",
    "\n",
    "# 各エージェントが持つ現金を1で初期化\n",
    "cash = np.array([1]*N_EGENT)\n",
    "cash_t = [cash]\n",
    "\n",
    "# 各エージェントが持つ株式数を1で初期化\n",
    "stock = np.array([1]*N_EGENT)\n",
    "stock_t = [stock]\n",
    "\n",
    "# 株価を1で初期化\n",
    "price = 1\n",
    "price_t = [price]\n",
    "\n",
    "# 各定数パラメータ\n",
    "LAMBDA = 0.25\n",
    "OPINION_TH_MAX = 2.0\n",
    "G = 0.02\n",
    "ALPHA = 0.95\n",
    "\n",
    "opinion = [[] for _ in range(N_EGENT)]\n",
    "\n",
    "# 各時間での値を計算\n",
    "for step in N_STEP:\n",
    "    # 各エージェントに対する計算\n",
    "    for row in range(N_ROW):\n",
    "        for col in range(in N_COL):\n",
    "            e_i = row*N_COL + col  # エージェントの番号\n",
    "            \n",
    "            # opinionの計算\n",
    "            # 右辺第一項の計算\n",
    "            ke_sum = 0\n",
    "            try:\n",
    "                e_j = (row-1)*N_COL + col\n",
    "                ke_sum += k_t[:-1][e_i, e_j] * s_t[:-1][e_i, e_]\n",
    "            opi += C1[e_i] * sum()\n",
    "            \n",
    "        \n"
   ]
  },
  {
   "cell_type": "code",
   "execution_count": null,
   "metadata": {},
   "outputs": [],
   "source": []
  }
 ],
 "metadata": {
  "kernelspec": {
   "display_name": "Python 3",
   "language": "python",
   "name": "python3"
  },
  "language_info": {
   "codemirror_mode": {
    "name": "ipython",
    "version": 3
   },
   "file_extension": ".py",
   "mimetype": "text/x-python",
   "name": "python",
   "nbconvert_exporter": "python",
   "pygments_lexer": "ipython3",
   "version": "3.5.0"
  }
 },
 "nbformat": 4,
 "nbformat_minor": 2
}
